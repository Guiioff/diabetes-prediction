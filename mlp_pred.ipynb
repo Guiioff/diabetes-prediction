{
 "cells": [
  {
   "cell_type": "code",
   "execution_count": 13,
   "metadata": {},
   "outputs": [],
   "source": [
    "import pandas as pd\n",
    "\n",
    "from sklearn.model_selection import train_test_split\n",
    "from category_encoders import TargetEncoder\n",
    "\n",
    "from sklearn.neural_network import MLPClassifier\n",
    "from sklearn.pipeline import Pipeline\n",
    "from sklearn.preprocessing import StandardScaler\n",
    "\n",
    "from utils.evaluation import Evaluation\n",
    "\n",
    "from sklearn.model_selection import GridSearchCV\n",
    "\n",
    "\n",
    "pd.set_option(\"display.max_columns\", None)"
   ]
  },
  {
   "cell_type": "code",
   "execution_count": 2,
   "metadata": {},
   "outputs": [],
   "source": [
    "path = \"data/diabetes_processed_dataset.csv\"\n",
    "\n",
    "df = pd.read_csv(path)"
   ]
  },
  {
   "cell_type": "code",
   "execution_count": 3,
   "metadata": {},
   "outputs": [
    {
     "data": {
      "text/html": [
       "<div>\n",
       "<style scoped>\n",
       "    .dataframe tbody tr th:only-of-type {\n",
       "        vertical-align: middle;\n",
       "    }\n",
       "\n",
       "    .dataframe tbody tr th {\n",
       "        vertical-align: top;\n",
       "    }\n",
       "\n",
       "    .dataframe thead th {\n",
       "        text-align: right;\n",
       "    }\n",
       "</style>\n",
       "<table border=\"1\" class=\"dataframe\">\n",
       "  <thead>\n",
       "    <tr style=\"text-align: right;\">\n",
       "      <th></th>\n",
       "      <th>age</th>\n",
       "      <th>location</th>\n",
       "      <th>race:AfricanAmerican</th>\n",
       "      <th>race:Asian</th>\n",
       "      <th>race:Caucasian</th>\n",
       "      <th>race:Hispanic</th>\n",
       "      <th>race:Other</th>\n",
       "      <th>bmi</th>\n",
       "      <th>hbA1c_level</th>\n",
       "      <th>blood_glucose_level</th>\n",
       "      <th>diabetes</th>\n",
       "      <th>gender_Female</th>\n",
       "      <th>gender_Male</th>\n",
       "      <th>gender_Other</th>\n",
       "      <th>smoking_history_No Info</th>\n",
       "      <th>smoking_history_current</th>\n",
       "      <th>smoking_history_ever</th>\n",
       "      <th>smoking_history_former</th>\n",
       "      <th>smoking_history_never</th>\n",
       "      <th>smoking_history_not current</th>\n",
       "      <th>hypertension_0</th>\n",
       "      <th>hypertension_1</th>\n",
       "      <th>heart_disease_0</th>\n",
       "      <th>heart_disease_1</th>\n",
       "    </tr>\n",
       "  </thead>\n",
       "  <tbody>\n",
       "    <tr>\n",
       "      <th>0</th>\n",
       "      <td>32.0</td>\n",
       "      <td>Alabama</td>\n",
       "      <td>0</td>\n",
       "      <td>0</td>\n",
       "      <td>0</td>\n",
       "      <td>0</td>\n",
       "      <td>1</td>\n",
       "      <td>27.32</td>\n",
       "      <td>5.0</td>\n",
       "      <td>100</td>\n",
       "      <td>0</td>\n",
       "      <td>1.0</td>\n",
       "      <td>0.0</td>\n",
       "      <td>0.0</td>\n",
       "      <td>0.0</td>\n",
       "      <td>0.0</td>\n",
       "      <td>0.0</td>\n",
       "      <td>0.0</td>\n",
       "      <td>1.0</td>\n",
       "      <td>0.0</td>\n",
       "      <td>1.0</td>\n",
       "      <td>0.0</td>\n",
       "      <td>1.0</td>\n",
       "      <td>0.0</td>\n",
       "    </tr>\n",
       "    <tr>\n",
       "      <th>1</th>\n",
       "      <td>29.0</td>\n",
       "      <td>Alabama</td>\n",
       "      <td>0</td>\n",
       "      <td>1</td>\n",
       "      <td>0</td>\n",
       "      <td>0</td>\n",
       "      <td>0</td>\n",
       "      <td>19.95</td>\n",
       "      <td>5.0</td>\n",
       "      <td>90</td>\n",
       "      <td>0</td>\n",
       "      <td>1.0</td>\n",
       "      <td>0.0</td>\n",
       "      <td>0.0</td>\n",
       "      <td>0.0</td>\n",
       "      <td>0.0</td>\n",
       "      <td>0.0</td>\n",
       "      <td>0.0</td>\n",
       "      <td>1.0</td>\n",
       "      <td>0.0</td>\n",
       "      <td>1.0</td>\n",
       "      <td>0.0</td>\n",
       "      <td>1.0</td>\n",
       "      <td>0.0</td>\n",
       "    </tr>\n",
       "    <tr>\n",
       "      <th>2</th>\n",
       "      <td>18.0</td>\n",
       "      <td>Alabama</td>\n",
       "      <td>0</td>\n",
       "      <td>0</td>\n",
       "      <td>0</td>\n",
       "      <td>0</td>\n",
       "      <td>1</td>\n",
       "      <td>23.76</td>\n",
       "      <td>4.8</td>\n",
       "      <td>160</td>\n",
       "      <td>0</td>\n",
       "      <td>0.0</td>\n",
       "      <td>1.0</td>\n",
       "      <td>0.0</td>\n",
       "      <td>0.0</td>\n",
       "      <td>0.0</td>\n",
       "      <td>0.0</td>\n",
       "      <td>0.0</td>\n",
       "      <td>1.0</td>\n",
       "      <td>0.0</td>\n",
       "      <td>1.0</td>\n",
       "      <td>0.0</td>\n",
       "      <td>1.0</td>\n",
       "      <td>0.0</td>\n",
       "    </tr>\n",
       "    <tr>\n",
       "      <th>3</th>\n",
       "      <td>41.0</td>\n",
       "      <td>Alabama</td>\n",
       "      <td>0</td>\n",
       "      <td>0</td>\n",
       "      <td>1</td>\n",
       "      <td>0</td>\n",
       "      <td>0</td>\n",
       "      <td>27.32</td>\n",
       "      <td>4.0</td>\n",
       "      <td>159</td>\n",
       "      <td>0</td>\n",
       "      <td>0.0</td>\n",
       "      <td>1.0</td>\n",
       "      <td>0.0</td>\n",
       "      <td>0.0</td>\n",
       "      <td>0.0</td>\n",
       "      <td>0.0</td>\n",
       "      <td>0.0</td>\n",
       "      <td>1.0</td>\n",
       "      <td>0.0</td>\n",
       "      <td>1.0</td>\n",
       "      <td>0.0</td>\n",
       "      <td>1.0</td>\n",
       "      <td>0.0</td>\n",
       "    </tr>\n",
       "    <tr>\n",
       "      <th>4</th>\n",
       "      <td>52.0</td>\n",
       "      <td>Alabama</td>\n",
       "      <td>1</td>\n",
       "      <td>0</td>\n",
       "      <td>0</td>\n",
       "      <td>0</td>\n",
       "      <td>0</td>\n",
       "      <td>23.75</td>\n",
       "      <td>6.5</td>\n",
       "      <td>90</td>\n",
       "      <td>0</td>\n",
       "      <td>1.0</td>\n",
       "      <td>0.0</td>\n",
       "      <td>0.0</td>\n",
       "      <td>0.0</td>\n",
       "      <td>0.0</td>\n",
       "      <td>0.0</td>\n",
       "      <td>0.0</td>\n",
       "      <td>1.0</td>\n",
       "      <td>0.0</td>\n",
       "      <td>1.0</td>\n",
       "      <td>0.0</td>\n",
       "      <td>1.0</td>\n",
       "      <td>0.0</td>\n",
       "    </tr>\n",
       "  </tbody>\n",
       "</table>\n",
       "</div>"
      ],
      "text/plain": [
       "    age location  race:AfricanAmerican  race:Asian  race:Caucasian  \\\n",
       "0  32.0  Alabama                     0           0               0   \n",
       "1  29.0  Alabama                     0           1               0   \n",
       "2  18.0  Alabama                     0           0               0   \n",
       "3  41.0  Alabama                     0           0               1   \n",
       "4  52.0  Alabama                     1           0               0   \n",
       "\n",
       "   race:Hispanic  race:Other    bmi  hbA1c_level  blood_glucose_level  \\\n",
       "0              0           1  27.32          5.0                  100   \n",
       "1              0           0  19.95          5.0                   90   \n",
       "2              0           1  23.76          4.8                  160   \n",
       "3              0           0  27.32          4.0                  159   \n",
       "4              0           0  23.75          6.5                   90   \n",
       "\n",
       "   diabetes  gender_Female  gender_Male  gender_Other  \\\n",
       "0         0            1.0          0.0           0.0   \n",
       "1         0            1.0          0.0           0.0   \n",
       "2         0            0.0          1.0           0.0   \n",
       "3         0            0.0          1.0           0.0   \n",
       "4         0            1.0          0.0           0.0   \n",
       "\n",
       "   smoking_history_No Info  smoking_history_current  smoking_history_ever  \\\n",
       "0                      0.0                      0.0                   0.0   \n",
       "1                      0.0                      0.0                   0.0   \n",
       "2                      0.0                      0.0                   0.0   \n",
       "3                      0.0                      0.0                   0.0   \n",
       "4                      0.0                      0.0                   0.0   \n",
       "\n",
       "   smoking_history_former  smoking_history_never  smoking_history_not current  \\\n",
       "0                     0.0                    1.0                          0.0   \n",
       "1                     0.0                    1.0                          0.0   \n",
       "2                     0.0                    1.0                          0.0   \n",
       "3                     0.0                    1.0                          0.0   \n",
       "4                     0.0                    1.0                          0.0   \n",
       "\n",
       "   hypertension_0  hypertension_1  heart_disease_0  heart_disease_1  \n",
       "0             1.0             0.0              1.0              0.0  \n",
       "1             1.0             0.0              1.0              0.0  \n",
       "2             1.0             0.0              1.0              0.0  \n",
       "3             1.0             0.0              1.0              0.0  \n",
       "4             1.0             0.0              1.0              0.0  "
      ]
     },
     "execution_count": 3,
     "metadata": {},
     "output_type": "execute_result"
    }
   ],
   "source": [
    "df.head()"
   ]
  },
  {
   "cell_type": "markdown",
   "metadata": {},
   "source": [
    "## Split and Target Encoding *location*"
   ]
  },
  {
   "cell_type": "code",
   "execution_count": 5,
   "metadata": {},
   "outputs": [],
   "source": [
    "X = df.drop(['diabetes'], axis = 1)\n",
    "y = df['diabetes']"
   ]
  },
  {
   "cell_type": "code",
   "execution_count": 6,
   "metadata": {},
   "outputs": [],
   "source": [
    "X_train, X_test, y_train, y_test = train_test_split(X, y, random_state=42)"
   ]
  },
  {
   "cell_type": "code",
   "execution_count": 7,
   "metadata": {},
   "outputs": [],
   "source": [
    "encoder = TargetEncoder(cols=['location'])\n",
    "X_train['location'] = encoder.fit_transform(X_train['location'], y_train)\n",
    "X_test['location'] = encoder.transform(X_test['location'])"
   ]
  },
  {
   "cell_type": "markdown",
   "metadata": {},
   "source": [
    "## Raw Prediction"
   ]
  },
  {
   "cell_type": "code",
   "execution_count": 14,
   "metadata": {},
   "outputs": [],
   "source": [
    "pipeline = Pipeline([\n",
    "    ('scaler', StandardScaler()),\n",
    "    ('mlp', MLPClassifier(random_state=42))\n",
    "])\n",
    "\n",
    "pipeline.fit(X_train, y_train)\n",
    "\n",
    "y_pred = pipeline.predict(X_test)"
   ]
  },
  {
   "cell_type": "markdown",
   "metadata": {},
   "source": [
    "### Evaluation"
   ]
  },
  {
   "cell_type": "code",
   "execution_count": 15,
   "metadata": {},
   "outputs": [
    {
     "name": "stdout",
     "output_type": "stream",
     "text": [
      "Accuracy: 0.9690\n"
     ]
    },
    {
     "data": {
      "image/png": "[encoded data removed]",
      "text/plain": [
       "<Figure size 640x480 with 2 Axes>"
      ]
     },
     "metadata": {},
     "output_type": "display_data"
    },
    {
     "name": "stdout",
     "output_type": "stream",
     "text": [
      "Classification Report:\n",
      "              precision    recall  f1-score   support\n",
      "\n",
      "           0       0.97      1.00      0.98     22895\n",
      "           1       0.93      0.68      0.79      2105\n",
      "\n",
      "    accuracy                           0.97     25000\n",
      "   macro avg       0.95      0.84      0.89     25000\n",
      "weighted avg       0.97      0.97      0.97     25000\n",
      "\n"
     ]
    }
   ],
   "source": [
    "eval = Evaluation()\n",
    "\n",
    "eval.evaluate_model(y_test, y_pred)"
   ]
  },
  {
   "cell_type": "markdown",
   "metadata": {},
   "source": [
    "## Tunning Prediction"
   ]
  },
  {
   "cell_type": "code",
   "execution_count": 19,
   "metadata": {},
   "outputs": [],
   "source": [
    "param_grid = {\n",
    "    'mlp__hidden_layer_sizes': [(50,), (100,), (50, 50)],\n",
    "    'mlp__activation': ['relu', 'tanh'],\n",
    "    'mlp__learning_rate_init': [0.001, 0.01],\n",
    "    'mlp__max_iter': [200, 400]\n",
    "}"
   ]
  },
  {
   "cell_type": "code",
   "execution_count": 20,
   "metadata": {},
   "outputs": [],
   "source": [
    "pipeline = Pipeline([\n",
    "    ('scaler', StandardScaler()),\n",
    "    ('mlp', MLPClassifier(random_state=42))\n",
    "])"
   ]
  },
  {
   "cell_type": "code",
   "execution_count": 21,
   "metadata": {},
   "outputs": [
    {
     "name": "stdout",
     "output_type": "stream",
     "text": [
      "Fitting 5 folds for each of 24 candidates, totalling 120 fits\n",
      "[CV] END mlp__activation=relu, mlp__hidden_layer_sizes=(50,), mlp__learning_rate_init=0.001, mlp__max_iter=200; total time=  16.6s\n",
      "[CV] END mlp__activation=relu, mlp__hidden_layer_sizes=(50,), mlp__learning_rate_init=0.001, mlp__max_iter=200; total time=  18.8s\n",
      "[CV] END mlp__activation=relu, mlp__hidden_layer_sizes=(50,), mlp__learning_rate_init=0.001, mlp__max_iter=200; total time=  20.0s\n",
      "[CV] END mlp__activation=relu, mlp__hidden_layer_sizes=(50,), mlp__learning_rate_init=0.001, mlp__max_iter=200; total time=  17.1s\n",
      "[CV] END mlp__activation=relu, mlp__hidden_layer_sizes=(50,), mlp__learning_rate_init=0.001, mlp__max_iter=200; total time=  18.6s\n",
      "[CV] END mlp__activation=relu, mlp__hidden_layer_sizes=(50,), mlp__learning_rate_init=0.001, mlp__max_iter=400; total time=  17.0s\n",
      "[CV] END mlp__activation=relu, mlp__hidden_layer_sizes=(50,), mlp__learning_rate_init=0.001, mlp__max_iter=400; total time=  26.1s\n",
      "[CV] END mlp__activation=relu, mlp__hidden_layer_sizes=(50,), mlp__learning_rate_init=0.001, mlp__max_iter=400; total time=  20.0s\n",
      "[CV] END mlp__activation=relu, mlp__hidden_layer_sizes=(50,), mlp__learning_rate_init=0.001, mlp__max_iter=400; total time=  18.4s\n",
      "[CV] END mlp__activation=relu, mlp__hidden_layer_sizes=(50,), mlp__learning_rate_init=0.001, mlp__max_iter=400; total time=  17.6s\n",
      "[CV] END mlp__activation=relu, mlp__hidden_layer_sizes=(50,), mlp__learning_rate_init=0.01, mlp__max_iter=200; total time=   7.9s\n",
      "[CV] END mlp__activation=relu, mlp__hidden_layer_sizes=(50,), mlp__learning_rate_init=0.01, mlp__max_iter=200; total time=   4.7s\n",
      "[CV] END mlp__activation=relu, mlp__hidden_layer_sizes=(50,), mlp__learning_rate_init=0.01, mlp__max_iter=200; total time=  17.4s\n",
      "[CV] END mlp__activation=relu, mlp__hidden_layer_sizes=(50,), mlp__learning_rate_init=0.01, mlp__max_iter=200; total time=   7.9s\n",
      "[CV] END mlp__activation=relu, mlp__hidden_layer_sizes=(50,), mlp__learning_rate_init=0.01, mlp__max_iter=200; total time=   5.0s\n",
      "[CV] END mlp__activation=relu, mlp__hidden_layer_sizes=(50,), mlp__learning_rate_init=0.01, mlp__max_iter=400; total time=   8.2s\n",
      "[CV] END mlp__activation=relu, mlp__hidden_layer_sizes=(50,), mlp__learning_rate_init=0.01, mlp__max_iter=400; total time=   4.7s\n",
      "[CV] END mlp__activation=relu, mlp__hidden_layer_sizes=(50,), mlp__learning_rate_init=0.01, mlp__max_iter=400; total time=  18.7s\n",
      "[CV] END mlp__activation=relu, mlp__hidden_layer_sizes=(50,), mlp__learning_rate_init=0.01, mlp__max_iter=400; total time=   7.8s\n",
      "[CV] END mlp__activation=relu, mlp__hidden_layer_sizes=(50,), mlp__learning_rate_init=0.01, mlp__max_iter=400; total time=   5.7s\n",
      "[CV] END mlp__activation=relu, mlp__hidden_layer_sizes=(100,), mlp__learning_rate_init=0.001, mlp__max_iter=200; total time=  20.8s\n",
      "[CV] END mlp__activation=relu, mlp__hidden_layer_sizes=(100,), mlp__learning_rate_init=0.001, mlp__max_iter=200; total time=  29.7s\n",
      "[CV] END mlp__activation=relu, mlp__hidden_layer_sizes=(100,), mlp__learning_rate_init=0.001, mlp__max_iter=200; total time=  27.4s\n",
      "[CV] END mlp__activation=relu, mlp__hidden_layer_sizes=(100,), mlp__learning_rate_init=0.001, mlp__max_iter=200; total time=  31.8s\n",
      "[CV] END mlp__activation=relu, mlp__hidden_layer_sizes=(100,), mlp__learning_rate_init=0.001, mlp__max_iter=200; total time=  34.9s\n",
      "[CV] END mlp__activation=relu, mlp__hidden_layer_sizes=(100,), mlp__learning_rate_init=0.001, mlp__max_iter=400; total time=  22.5s\n",
      "[CV] END mlp__activation=relu, mlp__hidden_layer_sizes=(100,), mlp__learning_rate_init=0.001, mlp__max_iter=400; total time=  29.4s\n",
      "[CV] END mlp__activation=relu, mlp__hidden_layer_sizes=(100,), mlp__learning_rate_init=0.001, mlp__max_iter=400; total time=  27.8s\n",
      "[CV] END mlp__activation=relu, mlp__hidden_layer_sizes=(100,), mlp__learning_rate_init=0.001, mlp__max_iter=400; total time=  36.3s\n",
      "[CV] END mlp__activation=relu, mlp__hidden_layer_sizes=(100,), mlp__learning_rate_init=0.001, mlp__max_iter=400; total time=  30.9s\n",
      "[CV] END mlp__activation=relu, mlp__hidden_layer_sizes=(100,), mlp__learning_rate_init=0.01, mlp__max_iter=200; total time=   8.9s\n",
      "[CV] END mlp__activation=relu, mlp__hidden_layer_sizes=(100,), mlp__learning_rate_init=0.01, mlp__max_iter=200; total time=  17.2s\n",
      "[CV] END mlp__activation=relu, mlp__hidden_layer_sizes=(100,), mlp__learning_rate_init=0.01, mlp__max_iter=200; total time=  13.6s\n",
      "[CV] END mlp__activation=relu, mlp__hidden_layer_sizes=(100,), mlp__learning_rate_init=0.01, mlp__max_iter=200; total time=   9.0s\n",
      "[CV] END mlp__activation=relu, mlp__hidden_layer_sizes=(100,), mlp__learning_rate_init=0.01, mlp__max_iter=200; total time=  12.7s\n",
      "[CV] END mlp__activation=relu, mlp__hidden_layer_sizes=(100,), mlp__learning_rate_init=0.01, mlp__max_iter=400; total time=   9.4s\n",
      "[CV] END mlp__activation=relu, mlp__hidden_layer_sizes=(100,), mlp__learning_rate_init=0.01, mlp__max_iter=400; total time=  19.6s\n",
      "[CV] END mlp__activation=relu, mlp__hidden_layer_sizes=(100,), mlp__learning_rate_init=0.01, mlp__max_iter=400; total time=  13.9s\n",
      "[CV] END mlp__activation=relu, mlp__hidden_layer_sizes=(100,), mlp__learning_rate_init=0.01, mlp__max_iter=400; total time=   8.6s\n",
      "[CV] END mlp__activation=relu, mlp__hidden_layer_sizes=(100,), mlp__learning_rate_init=0.01, mlp__max_iter=400; total time=  16.6s\n"
     ]
    },
    {
     "name": "stderr",
     "output_type": "stream",
     "text": [
      "/home/matt/anaconda3/envs/diabetes-prediction/lib/python3.10/site-packages/sklearn/neural_network/_multilayer_perceptron.py:690: ConvergenceWarning: Stochastic Optimizer: Maximum iterations (200) reached and the optimization hasn't converged yet.\n",
      "  warnings.warn(\n"
     ]
    },
    {
     "name": "stdout",
     "output_type": "stream",
     "text": [
      "[CV] END mlp__activation=relu, mlp__hidden_layer_sizes=(50, 50), mlp__learning_rate_init=0.001, mlp__max_iter=200; total time=  52.0s\n"
     ]
    },
    {
     "name": "stderr",
     "output_type": "stream",
     "text": [
      "/home/matt/anaconda3/envs/diabetes-prediction/lib/python3.10/site-packages/sklearn/neural_network/_multilayer_perceptron.py:690: ConvergenceWarning: Stochastic Optimizer: Maximum iterations (200) reached and the optimization hasn't converged yet.\n",
      "  warnings.warn(\n"
     ]
    },
    {
     "name": "stdout",
     "output_type": "stream",
     "text": [
      "[CV] END mlp__activation=relu, mlp__hidden_layer_sizes=(50, 50), mlp__learning_rate_init=0.001, mlp__max_iter=200; total time=  57.8s\n"
     ]
    },
    {
     "name": "stderr",
     "output_type": "stream",
     "text": [
      "/home/matt/anaconda3/envs/diabetes-prediction/lib/python3.10/site-packages/sklearn/neural_network/_multilayer_perceptron.py:690: ConvergenceWarning: Stochastic Optimizer: Maximum iterations (200) reached and the optimization hasn't converged yet.\n",
      "  warnings.warn(\n"
     ]
    },
    {
     "name": "stdout",
     "output_type": "stream",
     "text": [
      "[CV] END mlp__activation=relu, mlp__hidden_layer_sizes=(50, 50), mlp__learning_rate_init=0.001, mlp__max_iter=200; total time=  48.4s\n",
      "[CV] END mlp__activation=relu, mlp__hidden_layer_sizes=(50, 50), mlp__learning_rate_init=0.001, mlp__max_iter=200; total time=  46.7s\n"
     ]
    },
    {
     "name": "stderr",
     "output_type": "stream",
     "text": [
      "/home/matt/anaconda3/envs/diabetes-prediction/lib/python3.10/site-packages/sklearn/neural_network/_multilayer_perceptron.py:690: ConvergenceWarning: Stochastic Optimizer: Maximum iterations (200) reached and the optimization hasn't converged yet.\n",
      "  warnings.warn(\n"
     ]
    },
    {
     "name": "stdout",
     "output_type": "stream",
     "text": [
      "[CV] END mlp__activation=relu, mlp__hidden_layer_sizes=(50, 50), mlp__learning_rate_init=0.001, mlp__max_iter=200; total time=  48.1s\n",
      "[CV] END mlp__activation=relu, mlp__hidden_layer_sizes=(50, 50), mlp__learning_rate_init=0.001, mlp__max_iter=400; total time= 1.0min\n",
      "[CV] END mlp__activation=relu, mlp__hidden_layer_sizes=(50, 50), mlp__learning_rate_init=0.001, mlp__max_iter=400; total time= 1.8min\n",
      "[CV] END mlp__activation=relu, mlp__hidden_layer_sizes=(50, 50), mlp__learning_rate_init=0.001, mlp__max_iter=400; total time= 1.4min\n",
      "[CV] END mlp__activation=relu, mlp__hidden_layer_sizes=(50, 50), mlp__learning_rate_init=0.001, mlp__max_iter=400; total time=  44.5s\n",
      "[CV] END mlp__activation=relu, mlp__hidden_layer_sizes=(50, 50), mlp__learning_rate_init=0.001, mlp__max_iter=400; total time= 1.4min\n",
      "[CV] END mlp__activation=relu, mlp__hidden_layer_sizes=(50, 50), mlp__learning_rate_init=0.01, mlp__max_iter=200; total time=  54.6s\n",
      "[CV] END mlp__activation=relu, mlp__hidden_layer_sizes=(50, 50), mlp__learning_rate_init=0.01, mlp__max_iter=200; total time= 1.5min\n",
      "[CV] END mlp__activation=relu, mlp__hidden_layer_sizes=(50, 50), mlp__learning_rate_init=0.01, mlp__max_iter=200; total time=  53.9s\n",
      "[CV] END mlp__activation=relu, mlp__hidden_layer_sizes=(50, 50), mlp__learning_rate_init=0.01, mlp__max_iter=200; total time=  29.1s\n",
      "[CV] END mlp__activation=relu, mlp__hidden_layer_sizes=(50, 50), mlp__learning_rate_init=0.01, mlp__max_iter=200; total time=  50.5s\n",
      "[CV] END mlp__activation=relu, mlp__hidden_layer_sizes=(50, 50), mlp__learning_rate_init=0.01, mlp__max_iter=400; total time=  54.7s\n",
      "[CV] END mlp__activation=relu, mlp__hidden_layer_sizes=(50, 50), mlp__learning_rate_init=0.01, mlp__max_iter=400; total time= 1.6min\n",
      "[CV] END mlp__activation=relu, mlp__hidden_layer_sizes=(50, 50), mlp__learning_rate_init=0.01, mlp__max_iter=400; total time=  48.8s\n",
      "[CV] END mlp__activation=relu, mlp__hidden_layer_sizes=(50, 50), mlp__learning_rate_init=0.01, mlp__max_iter=400; total time=  25.5s\n",
      "[CV] END mlp__activation=relu, mlp__hidden_layer_sizes=(50, 50), mlp__learning_rate_init=0.01, mlp__max_iter=400; total time=  47.5s\n"
     ]
    },
    {
     "name": "stderr",
     "output_type": "stream",
     "text": [
      "/home/matt/anaconda3/envs/diabetes-prediction/lib/python3.10/site-packages/sklearn/neural_network/_multilayer_perceptron.py:690: ConvergenceWarning: Stochastic Optimizer: Maximum iterations (200) reached and the optimization hasn't converged yet.\n",
      "  warnings.warn(\n"
     ]
    },
    {
     "name": "stdout",
     "output_type": "stream",
     "text": [
      "[CV] END mlp__activation=tanh, mlp__hidden_layer_sizes=(50,), mlp__learning_rate_init=0.001, mlp__max_iter=200; total time=  27.2s\n"
     ]
    },
    {
     "name": "stderr",
     "output_type": "stream",
     "text": [
      "/home/matt/anaconda3/envs/diabetes-prediction/lib/python3.10/site-packages/sklearn/neural_network/_multilayer_perceptron.py:690: ConvergenceWarning: Stochastic Optimizer: Maximum iterations (200) reached and the optimization hasn't converged yet.\n",
      "  warnings.warn(\n"
     ]
    },
    {
     "name": "stdout",
     "output_type": "stream",
     "text": [
      "[CV] END mlp__activation=tanh, mlp__hidden_layer_sizes=(50,), mlp__learning_rate_init=0.001, mlp__max_iter=200; total time=  25.9s\n"
     ]
    },
    {
     "name": "stderr",
     "output_type": "stream",
     "text": [
      "/home/matt/anaconda3/envs/diabetes-prediction/lib/python3.10/site-packages/sklearn/neural_network/_multilayer_perceptron.py:690: ConvergenceWarning: Stochastic Optimizer: Maximum iterations (200) reached and the optimization hasn't converged yet.\n",
      "  warnings.warn(\n"
     ]
    },
    {
     "name": "stdout",
     "output_type": "stream",
     "text": [
      "[CV] END mlp__activation=tanh, mlp__hidden_layer_sizes=(50,), mlp__learning_rate_init=0.001, mlp__max_iter=200; total time=  28.0s\n"
     ]
    },
    {
     "name": "stderr",
     "output_type": "stream",
     "text": [
      "/home/matt/anaconda3/envs/diabetes-prediction/lib/python3.10/site-packages/sklearn/neural_network/_multilayer_perceptron.py:690: ConvergenceWarning: Stochastic Optimizer: Maximum iterations (200) reached and the optimization hasn't converged yet.\n",
      "  warnings.warn(\n"
     ]
    },
    {
     "name": "stdout",
     "output_type": "stream",
     "text": [
      "[CV] END mlp__activation=tanh, mlp__hidden_layer_sizes=(50,), mlp__learning_rate_init=0.001, mlp__max_iter=200; total time=  28.0s\n"
     ]
    },
    {
     "name": "stderr",
     "output_type": "stream",
     "text": [
      "/home/matt/anaconda3/envs/diabetes-prediction/lib/python3.10/site-packages/sklearn/neural_network/_multilayer_perceptron.py:690: ConvergenceWarning: Stochastic Optimizer: Maximum iterations (200) reached and the optimization hasn't converged yet.\n",
      "  warnings.warn(\n"
     ]
    },
    {
     "name": "stdout",
     "output_type": "stream",
     "text": [
      "[CV] END mlp__activation=tanh, mlp__hidden_layer_sizes=(50,), mlp__learning_rate_init=0.001, mlp__max_iter=200; total time=  31.1s\n",
      "[CV] END mlp__activation=tanh, mlp__hidden_layer_sizes=(50,), mlp__learning_rate_init=0.001, mlp__max_iter=400; total time=  40.9s\n",
      "[CV] END mlp__activation=tanh, mlp__hidden_layer_sizes=(50,), mlp__learning_rate_init=0.001, mlp__max_iter=400; total time=  37.1s\n",
      "[CV] END mlp__activation=tanh, mlp__hidden_layer_sizes=(50,), mlp__learning_rate_init=0.001, mlp__max_iter=400; total time=  33.5s\n",
      "[CV] END mlp__activation=tanh, mlp__hidden_layer_sizes=(50,), mlp__learning_rate_init=0.001, mlp__max_iter=400; total time=  33.8s\n",
      "[CV] END mlp__activation=tanh, mlp__hidden_layer_sizes=(50,), mlp__learning_rate_init=0.001, mlp__max_iter=400; total time=  46.1s\n",
      "[CV] END mlp__activation=tanh, mlp__hidden_layer_sizes=(50,), mlp__learning_rate_init=0.01, mlp__max_iter=200; total time=  16.8s\n",
      "[CV] END mlp__activation=tanh, mlp__hidden_layer_sizes=(50,), mlp__learning_rate_init=0.01, mlp__max_iter=200; total time=  21.7s\n",
      "[CV] END mlp__activation=tanh, mlp__hidden_layer_sizes=(50,), mlp__learning_rate_init=0.01, mlp__max_iter=200; total time=  16.3s\n",
      "[CV] END mlp__activation=tanh, mlp__hidden_layer_sizes=(50,), mlp__learning_rate_init=0.01, mlp__max_iter=200; total time=  20.6s\n",
      "[CV] END mlp__activation=tanh, mlp__hidden_layer_sizes=(50,), mlp__learning_rate_init=0.01, mlp__max_iter=200; total time=  14.4s\n",
      "[CV] END mlp__activation=tanh, mlp__hidden_layer_sizes=(50,), mlp__learning_rate_init=0.01, mlp__max_iter=400; total time=  15.0s\n",
      "[CV] END mlp__activation=tanh, mlp__hidden_layer_sizes=(50,), mlp__learning_rate_init=0.01, mlp__max_iter=400; total time=  21.8s\n",
      "[CV] END mlp__activation=tanh, mlp__hidden_layer_sizes=(50,), mlp__learning_rate_init=0.01, mlp__max_iter=400; total time=  17.8s\n",
      "[CV] END mlp__activation=tanh, mlp__hidden_layer_sizes=(50,), mlp__learning_rate_init=0.01, mlp__max_iter=400; total time=  18.5s\n",
      "[CV] END mlp__activation=tanh, mlp__hidden_layer_sizes=(50,), mlp__learning_rate_init=0.01, mlp__max_iter=400; total time=  16.7s\n"
     ]
    },
    {
     "name": "stderr",
     "output_type": "stream",
     "text": [
      "/home/matt/anaconda3/envs/diabetes-prediction/lib/python3.10/site-packages/sklearn/neural_network/_multilayer_perceptron.py:690: ConvergenceWarning: Stochastic Optimizer: Maximum iterations (200) reached and the optimization hasn't converged yet.\n",
      "  warnings.warn(\n"
     ]
    },
    {
     "name": "stdout",
     "output_type": "stream",
     "text": [
      "[CV] END mlp__activation=tanh, mlp__hidden_layer_sizes=(100,), mlp__learning_rate_init=0.001, mlp__max_iter=200; total time=  41.9s\n"
     ]
    },
    {
     "name": "stderr",
     "output_type": "stream",
     "text": [
      "/home/matt/anaconda3/envs/diabetes-prediction/lib/python3.10/site-packages/sklearn/neural_network/_multilayer_perceptron.py:690: ConvergenceWarning: Stochastic Optimizer: Maximum iterations (200) reached and the optimization hasn't converged yet.\n",
      "  warnings.warn(\n"
     ]
    },
    {
     "name": "stdout",
     "output_type": "stream",
     "text": [
      "[CV] END mlp__activation=tanh, mlp__hidden_layer_sizes=(100,), mlp__learning_rate_init=0.001, mlp__max_iter=200; total time=  41.9s\n"
     ]
    },
    {
     "name": "stderr",
     "output_type": "stream",
     "text": [
      "/home/matt/anaconda3/envs/diabetes-prediction/lib/python3.10/site-packages/sklearn/neural_network/_multilayer_perceptron.py:690: ConvergenceWarning: Stochastic Optimizer: Maximum iterations (200) reached and the optimization hasn't converged yet.\n",
      "  warnings.warn(\n"
     ]
    },
    {
     "name": "stdout",
     "output_type": "stream",
     "text": [
      "[CV] END mlp__activation=tanh, mlp__hidden_layer_sizes=(100,), mlp__learning_rate_init=0.001, mlp__max_iter=200; total time=  41.7s\n"
     ]
    },
    {
     "name": "stderr",
     "output_type": "stream",
     "text": [
      "/home/matt/anaconda3/envs/diabetes-prediction/lib/python3.10/site-packages/sklearn/neural_network/_multilayer_perceptron.py:690: ConvergenceWarning: Stochastic Optimizer: Maximum iterations (200) reached and the optimization hasn't converged yet.\n",
      "  warnings.warn(\n"
     ]
    },
    {
     "name": "stdout",
     "output_type": "stream",
     "text": [
      "[CV] END mlp__activation=tanh, mlp__hidden_layer_sizes=(100,), mlp__learning_rate_init=0.001, mlp__max_iter=200; total time=  43.3s\n"
     ]
    },
    {
     "name": "stderr",
     "output_type": "stream",
     "text": [
      "/home/matt/anaconda3/envs/diabetes-prediction/lib/python3.10/site-packages/sklearn/neural_network/_multilayer_perceptron.py:690: ConvergenceWarning: Stochastic Optimizer: Maximum iterations (200) reached and the optimization hasn't converged yet.\n",
      "  warnings.warn(\n"
     ]
    },
    {
     "name": "stdout",
     "output_type": "stream",
     "text": [
      "[CV] END mlp__activation=tanh, mlp__hidden_layer_sizes=(100,), mlp__learning_rate_init=0.001, mlp__max_iter=200; total time=  44.4s\n"
     ]
    },
    {
     "name": "stderr",
     "output_type": "stream",
     "text": [
      "/home/matt/anaconda3/envs/diabetes-prediction/lib/python3.10/site-packages/sklearn/neural_network/_multilayer_perceptron.py:690: ConvergenceWarning: Stochastic Optimizer: Maximum iterations (400) reached and the optimization hasn't converged yet.\n",
      "  warnings.warn(\n"
     ]
    },
    {
     "name": "stdout",
     "output_type": "stream",
     "text": [
      "[CV] END mlp__activation=tanh, mlp__hidden_layer_sizes=(100,), mlp__learning_rate_init=0.001, mlp__max_iter=400; total time= 1.5min\n",
      "[CV] END mlp__activation=tanh, mlp__hidden_layer_sizes=(100,), mlp__learning_rate_init=0.001, mlp__max_iter=400; total time=  59.7s\n",
      "[CV] END mlp__activation=tanh, mlp__hidden_layer_sizes=(100,), mlp__learning_rate_init=0.001, mlp__max_iter=400; total time=  38.6s\n"
     ]
    },
    {
     "name": "stderr",
     "output_type": "stream",
     "text": [
      "/home/matt/anaconda3/envs/diabetes-prediction/lib/python3.10/site-packages/sklearn/neural_network/_multilayer_perceptron.py:690: ConvergenceWarning: Stochastic Optimizer: Maximum iterations (400) reached and the optimization hasn't converged yet.\n",
      "  warnings.warn(\n"
     ]
    },
    {
     "name": "stdout",
     "output_type": "stream",
     "text": [
      "[CV] END mlp__activation=tanh, mlp__hidden_layer_sizes=(100,), mlp__learning_rate_init=0.001, mlp__max_iter=400; total time=  52.4s\n"
     ]
    },
    {
     "name": "stderr",
     "output_type": "stream",
     "text": [
      "/home/matt/anaconda3/envs/diabetes-prediction/lib/python3.10/site-packages/sklearn/neural_network/_multilayer_perceptron.py:690: ConvergenceWarning: Stochastic Optimizer: Maximum iterations (400) reached and the optimization hasn't converged yet.\n",
      "  warnings.warn(\n"
     ]
    },
    {
     "name": "stdout",
     "output_type": "stream",
     "text": [
      "[CV] END mlp__activation=tanh, mlp__hidden_layer_sizes=(100,), mlp__learning_rate_init=0.001, mlp__max_iter=400; total time=  58.2s\n",
      "[CV] END mlp__activation=tanh, mlp__hidden_layer_sizes=(100,), mlp__learning_rate_init=0.01, mlp__max_iter=200; total time=  27.6s\n",
      "[CV] END mlp__activation=tanh, mlp__hidden_layer_sizes=(100,), mlp__learning_rate_init=0.01, mlp__max_iter=200; total time=  23.2s\n"
     ]
    },
    {
     "name": "stderr",
     "output_type": "stream",
     "text": [
      "/home/matt/anaconda3/envs/diabetes-prediction/lib/python3.10/site-packages/sklearn/neural_network/_multilayer_perceptron.py:690: ConvergenceWarning: Stochastic Optimizer: Maximum iterations (200) reached and the optimization hasn't converged yet.\n",
      "  warnings.warn(\n"
     ]
    },
    {
     "name": "stdout",
     "output_type": "stream",
     "text": [
      "[CV] END mlp__activation=tanh, mlp__hidden_layer_sizes=(100,), mlp__learning_rate_init=0.01, mlp__max_iter=200; total time=  26.0s\n",
      "[CV] END mlp__activation=tanh, mlp__hidden_layer_sizes=(100,), mlp__learning_rate_init=0.01, mlp__max_iter=200; total time=  20.8s\n",
      "[CV] END mlp__activation=tanh, mlp__hidden_layer_sizes=(100,), mlp__learning_rate_init=0.01, mlp__max_iter=200; total time=  25.3s\n",
      "[CV] END mlp__activation=tanh, mlp__hidden_layer_sizes=(100,), mlp__learning_rate_init=0.01, mlp__max_iter=400; total time=  26.2s\n",
      "[CV] END mlp__activation=tanh, mlp__hidden_layer_sizes=(100,), mlp__learning_rate_init=0.01, mlp__max_iter=400; total time=  20.6s\n",
      "[CV] END mlp__activation=tanh, mlp__hidden_layer_sizes=(100,), mlp__learning_rate_init=0.01, mlp__max_iter=400; total time=  28.6s\n",
      "[CV] END mlp__activation=tanh, mlp__hidden_layer_sizes=(100,), mlp__learning_rate_init=0.01, mlp__max_iter=400; total time=  23.3s\n",
      "[CV] END mlp__activation=tanh, mlp__hidden_layer_sizes=(100,), mlp__learning_rate_init=0.01, mlp__max_iter=400; total time=  25.3s\n"
     ]
    },
    {
     "name": "stderr",
     "output_type": "stream",
     "text": [
      "/home/matt/anaconda3/envs/diabetes-prediction/lib/python3.10/site-packages/sklearn/neural_network/_multilayer_perceptron.py:690: ConvergenceWarning: Stochastic Optimizer: Maximum iterations (200) reached and the optimization hasn't converged yet.\n",
      "  warnings.warn(\n"
     ]
    },
    {
     "name": "stdout",
     "output_type": "stream",
     "text": [
      "[CV] END mlp__activation=tanh, mlp__hidden_layer_sizes=(50, 50), mlp__learning_rate_init=0.001, mlp__max_iter=200; total time=  58.7s\n"
     ]
    },
    {
     "name": "stderr",
     "output_type": "stream",
     "text": [
      "/home/matt/anaconda3/envs/diabetes-prediction/lib/python3.10/site-packages/sklearn/neural_network/_multilayer_perceptron.py:690: ConvergenceWarning: Stochastic Optimizer: Maximum iterations (200) reached and the optimization hasn't converged yet.\n",
      "  warnings.warn(\n"
     ]
    },
    {
     "name": "stdout",
     "output_type": "stream",
     "text": [
      "[CV] END mlp__activation=tanh, mlp__hidden_layer_sizes=(50, 50), mlp__learning_rate_init=0.001, mlp__max_iter=200; total time=  57.1s\n"
     ]
    },
    {
     "name": "stderr",
     "output_type": "stream",
     "text": [
      "/home/matt/anaconda3/envs/diabetes-prediction/lib/python3.10/site-packages/sklearn/neural_network/_multilayer_perceptron.py:690: ConvergenceWarning: Stochastic Optimizer: Maximum iterations (200) reached and the optimization hasn't converged yet.\n",
      "  warnings.warn(\n"
     ]
    },
    {
     "name": "stdout",
     "output_type": "stream",
     "text": [
      "[CV] END mlp__activation=tanh, mlp__hidden_layer_sizes=(50, 50), mlp__learning_rate_init=0.001, mlp__max_iter=200; total time=  50.7s\n"
     ]
    },
    {
     "name": "stderr",
     "output_type": "stream",
     "text": [
      "/home/matt/anaconda3/envs/diabetes-prediction/lib/python3.10/site-packages/sklearn/neural_network/_multilayer_perceptron.py:690: ConvergenceWarning: Stochastic Optimizer: Maximum iterations (200) reached and the optimization hasn't converged yet.\n",
      "  warnings.warn(\n"
     ]
    },
    {
     "name": "stdout",
     "output_type": "stream",
     "text": [
      "[CV] END mlp__activation=tanh, mlp__hidden_layer_sizes=(50, 50), mlp__learning_rate_init=0.001, mlp__max_iter=200; total time=  44.7s\n"
     ]
    },
    {
     "name": "stderr",
     "output_type": "stream",
     "text": [
      "/home/matt/anaconda3/envs/diabetes-prediction/lib/python3.10/site-packages/sklearn/neural_network/_multilayer_perceptron.py:690: ConvergenceWarning: Stochastic Optimizer: Maximum iterations (200) reached and the optimization hasn't converged yet.\n",
      "  warnings.warn(\n"
     ]
    },
    {
     "name": "stdout",
     "output_type": "stream",
     "text": [
      "[CV] END mlp__activation=tanh, mlp__hidden_layer_sizes=(50, 50), mlp__learning_rate_init=0.001, mlp__max_iter=200; total time=  34.4s\n"
     ]
    },
    {
     "name": "stderr",
     "output_type": "stream",
     "text": [
      "/home/matt/anaconda3/envs/diabetes-prediction/lib/python3.10/site-packages/sklearn/neural_network/_multilayer_perceptron.py:690: ConvergenceWarning: Stochastic Optimizer: Maximum iterations (400) reached and the optimization hasn't converged yet.\n",
      "  warnings.warn(\n"
     ]
    },
    {
     "name": "stdout",
     "output_type": "stream",
     "text": [
      "[CV] END mlp__activation=tanh, mlp__hidden_layer_sizes=(50, 50), mlp__learning_rate_init=0.001, mlp__max_iter=400; total time= 1.2min\n"
     ]
    },
    {
     "name": "stderr",
     "output_type": "stream",
     "text": [
      "/home/matt/anaconda3/envs/diabetes-prediction/lib/python3.10/site-packages/sklearn/neural_network/_multilayer_perceptron.py:690: ConvergenceWarning: Stochastic Optimizer: Maximum iterations (400) reached and the optimization hasn't converged yet.\n",
      "  warnings.warn(\n"
     ]
    },
    {
     "name": "stdout",
     "output_type": "stream",
     "text": [
      "[CV] END mlp__activation=tanh, mlp__hidden_layer_sizes=(50, 50), mlp__learning_rate_init=0.001, mlp__max_iter=400; total time= 1.1min\n"
     ]
    },
    {
     "name": "stderr",
     "output_type": "stream",
     "text": [
      "/home/matt/anaconda3/envs/diabetes-prediction/lib/python3.10/site-packages/sklearn/neural_network/_multilayer_perceptron.py:690: ConvergenceWarning: Stochastic Optimizer: Maximum iterations (400) reached and the optimization hasn't converged yet.\n",
      "  warnings.warn(\n"
     ]
    },
    {
     "name": "stdout",
     "output_type": "stream",
     "text": [
      "[CV] END mlp__activation=tanh, mlp__hidden_layer_sizes=(50, 50), mlp__learning_rate_init=0.001, mlp__max_iter=400; total time= 1.0min\n"
     ]
    },
    {
     "name": "stderr",
     "output_type": "stream",
     "text": [
      "/home/matt/anaconda3/envs/diabetes-prediction/lib/python3.10/site-packages/sklearn/neural_network/_multilayer_perceptron.py:690: ConvergenceWarning: Stochastic Optimizer: Maximum iterations (400) reached and the optimization hasn't converged yet.\n",
      "  warnings.warn(\n"
     ]
    },
    {
     "name": "stdout",
     "output_type": "stream",
     "text": [
      "[CV] END mlp__activation=tanh, mlp__hidden_layer_sizes=(50, 50), mlp__learning_rate_init=0.001, mlp__max_iter=400; total time= 1.1min\n"
     ]
    },
    {
     "name": "stderr",
     "output_type": "stream",
     "text": [
      "/home/matt/anaconda3/envs/diabetes-prediction/lib/python3.10/site-packages/sklearn/neural_network/_multilayer_perceptron.py:690: ConvergenceWarning: Stochastic Optimizer: Maximum iterations (400) reached and the optimization hasn't converged yet.\n",
      "  warnings.warn(\n"
     ]
    },
    {
     "name": "stdout",
     "output_type": "stream",
     "text": [
      "[CV] END mlp__activation=tanh, mlp__hidden_layer_sizes=(50, 50), mlp__learning_rate_init=0.001, mlp__max_iter=400; total time= 1.1min\n",
      "[CV] END mlp__activation=tanh, mlp__hidden_layer_sizes=(50, 50), mlp__learning_rate_init=0.01, mlp__max_iter=200; total time=  25.7s\n",
      "[CV] END mlp__activation=tanh, mlp__hidden_layer_sizes=(50, 50), mlp__learning_rate_init=0.01, mlp__max_iter=200; total time=  27.5s\n",
      "[CV] END mlp__activation=tanh, mlp__hidden_layer_sizes=(50, 50), mlp__learning_rate_init=0.01, mlp__max_iter=200; total time=  23.0s\n",
      "[CV] END mlp__activation=tanh, mlp__hidden_layer_sizes=(50, 50), mlp__learning_rate_init=0.01, mlp__max_iter=200; total time=10.6min\n",
      "[CV] END mlp__activation=tanh, mlp__hidden_layer_sizes=(50, 50), mlp__learning_rate_init=0.01, mlp__max_iter=200; total time=  21.6s\n",
      "[CV] END mlp__activation=tanh, mlp__hidden_layer_sizes=(50, 50), mlp__learning_rate_init=0.01, mlp__max_iter=400; total time=  15.8s\n",
      "[CV] END mlp__activation=tanh, mlp__hidden_layer_sizes=(50, 50), mlp__learning_rate_init=0.01, mlp__max_iter=400; total time=  20.7s\n",
      "[CV] END mlp__activation=tanh, mlp__hidden_layer_sizes=(50, 50), mlp__learning_rate_init=0.01, mlp__max_iter=400; total time=  16.6s\n",
      "[CV] END mlp__activation=tanh, mlp__hidden_layer_sizes=(50, 50), mlp__learning_rate_init=0.01, mlp__max_iter=400; total time=  22.8s\n",
      "[CV] END mlp__activation=tanh, mlp__hidden_layer_sizes=(50, 50), mlp__learning_rate_init=0.01, mlp__max_iter=400; total time=  23.2s\n",
      "Melhores parâmetros:\n",
      " {'mlp__activation': 'relu', 'mlp__hidden_layer_sizes': (50,), 'mlp__learning_rate_init': 0.001, 'mlp__max_iter': 200}\n"
     ]
    }
   ],
   "source": [
    "grid_search = GridSearchCV(pipeline, param_grid, n_jobs=1, cv=5, scoring='accuracy', verbose=2)\n",
    "grid_search.fit(X_train, y_train)\n",
    "\n",
    "print(f\"Melhores parâmetros:\\n {grid_search.best_params_}\")"
   ]
  },
  {
   "cell_type": "markdown",
   "metadata": {},
   "source": [
    "### Final Prediction"
   ]
  },
  {
   "cell_type": "code",
   "execution_count": 22,
   "metadata": {},
   "outputs": [],
   "source": [
    "pipeline = Pipeline([\n",
    "    ('scaler', StandardScaler()),\n",
    "    ('mlp', MLPClassifier(activation='relu', hidden_layer_sizes=(50,), learning_rate_init=0.001, max_iter=200, random_state=42))\n",
    "])\n",
    "\n",
    "pipeline.fit(X_train, y_train)\n",
    "\n",
    "y_pred = pipeline.predict(X_test)"
   ]
  },
  {
   "cell_type": "markdown",
   "metadata": {},
   "source": [
    "### Evaluation"
   ]
  },
  {
   "cell_type": "code",
   "execution_count": 23,
   "metadata": {},
   "outputs": [
    {
     "name": "stdout",
     "output_type": "stream",
     "text": [
      "Accuracy: 0.9709\n"
     ]
    },
    {
     "data": {
      "image/png": "[encoded data removed]",
      "text/plain": [
       "<Figure size 640x480 with 2 Axes>"
      ]
     },
     "metadata": {},
     "output_type": "display_data"
    },
    {
     "name": "stdout",
     "output_type": "stream",
     "text": [
      "Classification Report:\n",
      "              precision    recall  f1-score   support\n",
      "\n",
      "           0       0.97      1.00      0.98     22895\n",
      "           1       0.97      0.67      0.80      2105\n",
      "\n",
      "    accuracy                           0.97     25000\n",
      "   macro avg       0.97      0.84      0.89     25000\n",
      "weighted avg       0.97      0.97      0.97     25000\n",
      "\n"
     ]
    }
   ],
   "source": [
    "eval = Evaluation()\n",
    "\n",
    "eval.evaluate_model(y_test, y_pred)"
   ]
  }
 ],
 "metadata": {
  "kernelspec": {
   "display_name": "diabetes-prediction",
   "language": "python",
   "name": "python3"
  },
  "language_info": {
   "codemirror_mode": {
    "name": "ipython",
    "version": 3
   },
   "file_extension": ".py",
   "mimetype": "text/x-python",
   "name": "python",
   "nbconvert_exporter": "python",
   "pygments_lexer": "ipython3",
   "version": "3.10.15"
  }
 },
 "nbformat": 4,
 "nbformat_minor": 2
}
